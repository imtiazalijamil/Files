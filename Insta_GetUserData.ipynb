{
 "cells": [
  {
   "cell_type": "code",
   "execution_count": null,
   "metadata": {},
   "outputs": [],
   "source": [
    "#Get user Data with bio email sepration\n",
    "from instascrape import Profile \n",
    "import re\n",
    "import pandas as pd\n",
    "import os\n",
    "from time import sleep\n",
    "data = []\n",
    "records=0\n",
    "\n",
    "\n",
    "\n",
    "with open(\"insta.txt\") as in_file:\n",
    "    for users in in_file:\n",
    "        user = users.strip()\n",
    "        google = Profile(user)\n",
    "        google.scrape()\n",
    "        userID = google.id\n",
    "        username = google.username\n",
    "        FullName = google.full_name\n",
    "        followers = google.followers\n",
    "        following = google.following\n",
    "        is_Private = google.is_private\n",
    "        is_Verified = google.is_verified\n",
    "        Business_Acc = google.is_business_account\n",
    "        Category = google.category_enum\n",
    "        Bio = google.biography\n",
    "        bio_Email = re.findall(r\"[a-z0-9\\.\\-+_]+@[a-z0-9\\.\\-+_]+\\.com\", Bio, re.I)\n",
    "        external_url = google.external_url\n",
    "        Media = google.posts\n",
    "        data.append((userID,username,FullName,followers,following,Media,Bio,is_Private,is_Verified,Business_Acc,Category,bio_Email,external_url))\n",
    "        records=records+1\n",
    "        print(records)\n",
    "        sleep(3)\n",
    "df = pd.DataFrame(data)\n",
    "col =[\"userID\", \"username\", \"FullName\",\"followers\",\"following\",\"Media\",\"Bio\",\"is_Private\",\"is_Verified\",\"Business_Acc\",\"Category\",\"bio_Email\",\"external_url\"]\n",
    "df.to_csv(\"instausers.csv\",header=col)  \n",
    "print(\"Data scraped and downloaded as csv\")"
   ]
  },
  {
   "cell_type": "code",
   "execution_count": null,
   "metadata": {},
   "outputs": [],
   "source": []
  }
 ],
 "metadata": {
  "kernelspec": {
   "display_name": "Python 3",
   "language": "python",
   "name": "python3"
  },
  "language_info": {
   "codemirror_mode": {
    "name": "ipython",
    "version": 3
   },
   "file_extension": ".py",
   "mimetype": "text/x-python",
   "name": "python",
   "nbconvert_exporter": "python",
   "pygments_lexer": "ipython3",
   "version": "3.9.0"
  }
 },
 "nbformat": 4,
 "nbformat_minor": 4
}
