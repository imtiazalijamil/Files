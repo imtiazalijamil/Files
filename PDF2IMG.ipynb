{
 "cells": [
  {
   "cell_type": "code",
   "execution_count": null,
   "metadata": {},
   "outputs": [],
   "source": [
    "from pdf2image import convert_from_path\n",
    "import os\n",
    "import sys\n",
    "import time\n",
    "\n",
    "outputDir = \"imag/\"\n",
    "\n",
    "\n",
    "def convert(file, outputDir):\n",
    "    outputDir = outputDir + str(round(time.time())) + '/'\n",
    "    if not os.path.exists(outputDir):\n",
    "        os.makedirs(outputDir)\n",
    "\n",
    "    pages = convert_from_path(file, 500)\n",
    "    counter = 1\n",
    "    for page in pages:\n",
    "        myfile = outputDir +'output' + str(counter) +'.jpg'\n",
    "        counter = counter + 1\n",
    "        page.save(myfile, \"JPEG\")\n",
    "        print(myfile)\n",
    "\n",
    "\n",
    "args = sys.argv\n",
    "if len(args) > 1:\n",
    "    file = args[1]\n",
    "    convert(file, outputDir)"
   ]
  }
 ],
 "metadata": {
  "kernelspec": {
   "display_name": "Python 3",
   "language": "python",
   "name": "python3"
  },
  "language_info": {
   "codemirror_mode": {
    "name": "ipython",
    "version": 3
   },
   "file_extension": ".py",
   "mimetype": "text/x-python",
   "name": "python",
   "nbconvert_exporter": "python",
   "pygments_lexer": "ipython3",
   "version": "3.8.6"
  },
  "varInspector": {
   "cols": {
    "lenName": 16,
    "lenType": 16,
    "lenVar": 40
   },
   "kernels_config": {
    "python": {
     "delete_cmd_postfix": "",
     "delete_cmd_prefix": "del ",
     "library": "var_list.py",
     "varRefreshCmd": "print(var_dic_list())"
    },
    "r": {
     "delete_cmd_postfix": ") ",
     "delete_cmd_prefix": "rm(",
     "library": "var_list.r",
     "varRefreshCmd": "cat(var_dic_list()) "
    }
   },
   "types_to_exclude": [
    "module",
    "function",
    "builtin_function_or_method",
    "instance",
    "_Feature"
   ],
   "window_display": false
  }
 },
 "nbformat": 4,
 "nbformat_minor": 4
}
